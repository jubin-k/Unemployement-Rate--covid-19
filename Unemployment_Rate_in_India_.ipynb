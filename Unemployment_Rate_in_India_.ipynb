{
  "nbformat": 4,
  "nbformat_minor": 0,
  "metadata": {
    "colab": {
      "provenance": [],
      "authorship_tag": "ABX9TyPbwjB8Mq23SnDQedGtwvYf",
      "include_colab_link": true
    },
    "kernelspec": {
      "name": "python3",
      "display_name": "Python 3"
    },
    "language_info": {
      "name": "python"
    }
  },
  "cells": [
    {
      "cell_type": "markdown",
      "metadata": {
        "id": "view-in-github",
        "colab_type": "text"
      },
      "source": [
        "<a href=\"https://colab.research.google.com/github/jubin-k/Unemployement-Rate--covid-19/blob/main/Unemployment_Rate_in_India_.ipynb\" target=\"_parent\"><img src=\"https://colab.research.google.com/assets/colab-badge.svg\" alt=\"Open In Colab\"/></a>"
      ]
    },
    {
      "cell_type": "code",
      "source": [
        "!pip install geopandas"
      ],
      "metadata": {
        "colab": {
          "base_uri": "https://localhost:8080/"
        },
        "id": "rThy9kFkTmd-",
        "outputId": "b4f29a7f-bcf1-4f32-e98f-ef9804eeb407"
      },
      "execution_count": 33,
      "outputs": [
        {
          "output_type": "stream",
          "name": "stdout",
          "text": [
            "Looking in indexes: https://pypi.org/simple, https://us-python.pkg.dev/colab-wheels/public/simple/\n",
            "Requirement already satisfied: geopandas in /usr/local/lib/python3.8/dist-packages (0.12.2)\n",
            "Requirement already satisfied: pandas>=1.0.0 in /usr/local/lib/python3.8/dist-packages (from geopandas) (1.3.5)\n",
            "Requirement already satisfied: packaging in /usr/local/lib/python3.8/dist-packages (from geopandas) (23.0)\n",
            "Requirement already satisfied: shapely>=1.7 in /usr/local/lib/python3.8/dist-packages (from geopandas) (2.0.1)\n",
            "Requirement already satisfied: fiona>=1.8 in /usr/local/lib/python3.8/dist-packages (from geopandas) (1.9.1)\n",
            "Requirement already satisfied: pyproj>=2.6.1.post1 in /usr/local/lib/python3.8/dist-packages (from geopandas) (3.4.1)\n",
            "Requirement already satisfied: cligj>=0.5 in /usr/local/lib/python3.8/dist-packages (from fiona>=1.8->geopandas) (0.7.2)\n",
            "Requirement already satisfied: click-plugins>=1.0 in /usr/local/lib/python3.8/dist-packages (from fiona>=1.8->geopandas) (1.1.1)\n",
            "Requirement already satisfied: certifi in /usr/local/lib/python3.8/dist-packages (from fiona>=1.8->geopandas) (2022.12.7)\n",
            "Requirement already satisfied: click~=8.0 in /usr/local/lib/python3.8/dist-packages (from fiona>=1.8->geopandas) (8.1.3)\n",
            "Requirement already satisfied: attrs>=19.2.0 in /usr/local/lib/python3.8/dist-packages (from fiona>=1.8->geopandas) (22.2.0)\n",
            "Requirement already satisfied: setuptools in /usr/local/lib/python3.8/dist-packages (from fiona>=1.8->geopandas) (57.4.0)\n",
            "Requirement already satisfied: munch>=2.3.2 in /usr/local/lib/python3.8/dist-packages (from fiona>=1.8->geopandas) (2.5.0)\n",
            "Requirement already satisfied: python-dateutil>=2.7.3 in /usr/local/lib/python3.8/dist-packages (from pandas>=1.0.0->geopandas) (2.8.2)\n",
            "Requirement already satisfied: pytz>=2017.3 in /usr/local/lib/python3.8/dist-packages (from pandas>=1.0.0->geopandas) (2022.7.1)\n",
            "Requirement already satisfied: numpy>=1.17.3 in /usr/local/lib/python3.8/dist-packages (from pandas>=1.0.0->geopandas) (1.22.4)\n",
            "Requirement already satisfied: six in /usr/local/lib/python3.8/dist-packages (from munch>=2.3.2->fiona>=1.8->geopandas) (1.15.0)\n"
          ]
        }
      ]
    },
    {
      "cell_type": "markdown",
      "source": [
        "**1. Get Data**"
      ],
      "metadata": {
        "id": "3VxBY40-CXxX"
      }
    },
    {
      "cell_type": "code",
      "source": [
        "import numpy as np\n",
        "import pandas as pd\n",
        "import matplotlib.pyplot as plt\n",
        "import seaborn as sns\n",
        "import geopandas as gpd"
      ],
      "metadata": {
        "id": "Kb662zibj5eh"
      },
      "execution_count": 34,
      "outputs": []
    },
    {
      "cell_type": "markdown",
      "source": [
        "**2. Explore and Clean the Data**"
      ],
      "metadata": {
        "id": "oc9LUdmlCcUd"
      }
    },
    {
      "cell_type": "code",
      "execution_count": 35,
      "metadata": {
        "colab": {
          "base_uri": "https://localhost:8080/",
          "height": 423
        },
        "id": "Ywwu2LtXloOH",
        "outputId": "818c550d-8b3c-4d4d-9617-a7248a0d1f7d"
      },
      "outputs": [
        {
          "output_type": "execute_result",
          "data": {
            "text/plain": [
              "             Region         Date  Frequency   Estimated Unemployment Rate (%)  \\\n",
              "0    Andhra Pradesh   31-05-2019    Monthly                              3.65   \n",
              "1    Andhra Pradesh   30-06-2019    Monthly                              3.05   \n",
              "2    Andhra Pradesh   31-07-2019    Monthly                              3.75   \n",
              "3    Andhra Pradesh   31-08-2019    Monthly                              3.32   \n",
              "4    Andhra Pradesh   30-09-2019    Monthly                              5.17   \n",
              "..              ...          ...        ...                               ...   \n",
              "763             NaN          NaN        NaN                               NaN   \n",
              "764             NaN          NaN        NaN                               NaN   \n",
              "765             NaN          NaN        NaN                               NaN   \n",
              "766             NaN          NaN        NaN                               NaN   \n",
              "767             NaN          NaN        NaN                               NaN   \n",
              "\n",
              "      Estimated Employed   Estimated Labour Participation Rate (%)   Area  \n",
              "0             11999139.0                                     43.24  Rural  \n",
              "1             11755881.0                                     42.05  Rural  \n",
              "2             12086707.0                                     43.50  Rural  \n",
              "3             12285693.0                                     43.97  Rural  \n",
              "4             12256762.0                                     44.68  Rural  \n",
              "..                   ...                                       ...    ...  \n",
              "763                  NaN                                       NaN    NaN  \n",
              "764                  NaN                                       NaN    NaN  \n",
              "765                  NaN                                       NaN    NaN  \n",
              "766                  NaN                                       NaN    NaN  \n",
              "767                  NaN                                       NaN    NaN  \n",
              "\n",
              "[768 rows x 7 columns]"
            ],
            "text/html": [
              "\n",
              "  <div id=\"df-1cd71129-8ea3-4f47-8994-a1b676b22750\">\n",
              "    <div class=\"colab-df-container\">\n",
              "      <div>\n",
              "<style scoped>\n",
              "    .dataframe tbody tr th:only-of-type {\n",
              "        vertical-align: middle;\n",
              "    }\n",
              "\n",
              "    .dataframe tbody tr th {\n",
              "        vertical-align: top;\n",
              "    }\n",
              "\n",
              "    .dataframe thead th {\n",
              "        text-align: right;\n",
              "    }\n",
              "</style>\n",
              "<table border=\"1\" class=\"dataframe\">\n",
              "  <thead>\n",
              "    <tr style=\"text-align: right;\">\n",
              "      <th></th>\n",
              "      <th>Region</th>\n",
              "      <th>Date</th>\n",
              "      <th>Frequency</th>\n",
              "      <th>Estimated Unemployment Rate (%)</th>\n",
              "      <th>Estimated Employed</th>\n",
              "      <th>Estimated Labour Participation Rate (%)</th>\n",
              "      <th>Area</th>\n",
              "    </tr>\n",
              "  </thead>\n",
              "  <tbody>\n",
              "    <tr>\n",
              "      <th>0</th>\n",
              "      <td>Andhra Pradesh</td>\n",
              "      <td>31-05-2019</td>\n",
              "      <td>Monthly</td>\n",
              "      <td>3.65</td>\n",
              "      <td>11999139.0</td>\n",
              "      <td>43.24</td>\n",
              "      <td>Rural</td>\n",
              "    </tr>\n",
              "    <tr>\n",
              "      <th>1</th>\n",
              "      <td>Andhra Pradesh</td>\n",
              "      <td>30-06-2019</td>\n",
              "      <td>Monthly</td>\n",
              "      <td>3.05</td>\n",
              "      <td>11755881.0</td>\n",
              "      <td>42.05</td>\n",
              "      <td>Rural</td>\n",
              "    </tr>\n",
              "    <tr>\n",
              "      <th>2</th>\n",
              "      <td>Andhra Pradesh</td>\n",
              "      <td>31-07-2019</td>\n",
              "      <td>Monthly</td>\n",
              "      <td>3.75</td>\n",
              "      <td>12086707.0</td>\n",
              "      <td>43.50</td>\n",
              "      <td>Rural</td>\n",
              "    </tr>\n",
              "    <tr>\n",
              "      <th>3</th>\n",
              "      <td>Andhra Pradesh</td>\n",
              "      <td>31-08-2019</td>\n",
              "      <td>Monthly</td>\n",
              "      <td>3.32</td>\n",
              "      <td>12285693.0</td>\n",
              "      <td>43.97</td>\n",
              "      <td>Rural</td>\n",
              "    </tr>\n",
              "    <tr>\n",
              "      <th>4</th>\n",
              "      <td>Andhra Pradesh</td>\n",
              "      <td>30-09-2019</td>\n",
              "      <td>Monthly</td>\n",
              "      <td>5.17</td>\n",
              "      <td>12256762.0</td>\n",
              "      <td>44.68</td>\n",
              "      <td>Rural</td>\n",
              "    </tr>\n",
              "    <tr>\n",
              "      <th>...</th>\n",
              "      <td>...</td>\n",
              "      <td>...</td>\n",
              "      <td>...</td>\n",
              "      <td>...</td>\n",
              "      <td>...</td>\n",
              "      <td>...</td>\n",
              "      <td>...</td>\n",
              "    </tr>\n",
              "    <tr>\n",
              "      <th>763</th>\n",
              "      <td>NaN</td>\n",
              "      <td>NaN</td>\n",
              "      <td>NaN</td>\n",
              "      <td>NaN</td>\n",
              "      <td>NaN</td>\n",
              "      <td>NaN</td>\n",
              "      <td>NaN</td>\n",
              "    </tr>\n",
              "    <tr>\n",
              "      <th>764</th>\n",
              "      <td>NaN</td>\n",
              "      <td>NaN</td>\n",
              "      <td>NaN</td>\n",
              "      <td>NaN</td>\n",
              "      <td>NaN</td>\n",
              "      <td>NaN</td>\n",
              "      <td>NaN</td>\n",
              "    </tr>\n",
              "    <tr>\n",
              "      <th>765</th>\n",
              "      <td>NaN</td>\n",
              "      <td>NaN</td>\n",
              "      <td>NaN</td>\n",
              "      <td>NaN</td>\n",
              "      <td>NaN</td>\n",
              "      <td>NaN</td>\n",
              "      <td>NaN</td>\n",
              "    </tr>\n",
              "    <tr>\n",
              "      <th>766</th>\n",
              "      <td>NaN</td>\n",
              "      <td>NaN</td>\n",
              "      <td>NaN</td>\n",
              "      <td>NaN</td>\n",
              "      <td>NaN</td>\n",
              "      <td>NaN</td>\n",
              "      <td>NaN</td>\n",
              "    </tr>\n",
              "    <tr>\n",
              "      <th>767</th>\n",
              "      <td>NaN</td>\n",
              "      <td>NaN</td>\n",
              "      <td>NaN</td>\n",
              "      <td>NaN</td>\n",
              "      <td>NaN</td>\n",
              "      <td>NaN</td>\n",
              "      <td>NaN</td>\n",
              "    </tr>\n",
              "  </tbody>\n",
              "</table>\n",
              "<p>768 rows × 7 columns</p>\n",
              "</div>\n",
              "      <button class=\"colab-df-convert\" onclick=\"convertToInteractive('df-1cd71129-8ea3-4f47-8994-a1b676b22750')\"\n",
              "              title=\"Convert this dataframe to an interactive table.\"\n",
              "              style=\"display:none;\">\n",
              "        \n",
              "  <svg xmlns=\"http://www.w3.org/2000/svg\" height=\"24px\"viewBox=\"0 0 24 24\"\n",
              "       width=\"24px\">\n",
              "    <path d=\"M0 0h24v24H0V0z\" fill=\"none\"/>\n",
              "    <path d=\"M18.56 5.44l.94 2.06.94-2.06 2.06-.94-2.06-.94-.94-2.06-.94 2.06-2.06.94zm-11 1L8.5 8.5l.94-2.06 2.06-.94-2.06-.94L8.5 2.5l-.94 2.06-2.06.94zm10 10l.94 2.06.94-2.06 2.06-.94-2.06-.94-.94-2.06-.94 2.06-2.06.94z\"/><path d=\"M17.41 7.96l-1.37-1.37c-.4-.4-.92-.59-1.43-.59-.52 0-1.04.2-1.43.59L10.3 9.45l-7.72 7.72c-.78.78-.78 2.05 0 2.83L4 21.41c.39.39.9.59 1.41.59.51 0 1.02-.2 1.41-.59l7.78-7.78 2.81-2.81c.8-.78.8-2.07 0-2.86zM5.41 20L4 18.59l7.72-7.72 1.47 1.35L5.41 20z\"/>\n",
              "  </svg>\n",
              "      </button>\n",
              "      \n",
              "  <style>\n",
              "    .colab-df-container {\n",
              "      display:flex;\n",
              "      flex-wrap:wrap;\n",
              "      gap: 12px;\n",
              "    }\n",
              "\n",
              "    .colab-df-convert {\n",
              "      background-color: #E8F0FE;\n",
              "      border: none;\n",
              "      border-radius: 50%;\n",
              "      cursor: pointer;\n",
              "      display: none;\n",
              "      fill: #1967D2;\n",
              "      height: 32px;\n",
              "      padding: 0 0 0 0;\n",
              "      width: 32px;\n",
              "    }\n",
              "\n",
              "    .colab-df-convert:hover {\n",
              "      background-color: #E2EBFA;\n",
              "      box-shadow: 0px 1px 2px rgba(60, 64, 67, 0.3), 0px 1px 3px 1px rgba(60, 64, 67, 0.15);\n",
              "      fill: #174EA6;\n",
              "    }\n",
              "\n",
              "    [theme=dark] .colab-df-convert {\n",
              "      background-color: #3B4455;\n",
              "      fill: #D2E3FC;\n",
              "    }\n",
              "\n",
              "    [theme=dark] .colab-df-convert:hover {\n",
              "      background-color: #434B5C;\n",
              "      box-shadow: 0px 1px 3px 1px rgba(0, 0, 0, 0.15);\n",
              "      filter: drop-shadow(0px 1px 2px rgba(0, 0, 0, 0.3));\n",
              "      fill: #FFFFFF;\n",
              "    }\n",
              "  </style>\n",
              "\n",
              "      <script>\n",
              "        const buttonEl =\n",
              "          document.querySelector('#df-1cd71129-8ea3-4f47-8994-a1b676b22750 button.colab-df-convert');\n",
              "        buttonEl.style.display =\n",
              "          google.colab.kernel.accessAllowed ? 'block' : 'none';\n",
              "\n",
              "        async function convertToInteractive(key) {\n",
              "          const element = document.querySelector('#df-1cd71129-8ea3-4f47-8994-a1b676b22750');\n",
              "          const dataTable =\n",
              "            await google.colab.kernel.invokeFunction('convertToInteractive',\n",
              "                                                     [key], {});\n",
              "          if (!dataTable) return;\n",
              "\n",
              "          const docLinkHtml = 'Like what you see? Visit the ' +\n",
              "            '<a target=\"_blank\" href=https://colab.research.google.com/notebooks/data_table.ipynb>data table notebook</a>'\n",
              "            + ' to learn more about interactive tables.';\n",
              "          element.innerHTML = '';\n",
              "          dataTable['output_type'] = 'display_data';\n",
              "          await google.colab.output.renderOutput(dataTable, element);\n",
              "          const docLink = document.createElement('div');\n",
              "          docLink.innerHTML = docLinkHtml;\n",
              "          element.appendChild(docLink);\n",
              "        }\n",
              "      </script>\n",
              "    </div>\n",
              "  </div>\n",
              "  "
            ]
          },
          "metadata": {},
          "execution_count": 35
        }
      ],
      "source": [
        "df1=pd.read_csv(\"/content/Unemployment in India.csv\")\n",
        "df1"
      ]
    },
    {
      "cell_type": "code",
      "source": [
        "df2=pd.read_csv(\"/content/Unemployment_Rate_upto_11_2020.csv\")\n",
        "df2"
      ],
      "metadata": {
        "colab": {
          "base_uri": "https://localhost:8080/",
          "height": 658
        },
        "id": "j6jEzi5QmsY-",
        "outputId": "200356ac-45d2-42ef-f30b-6982e73f7b27"
      },
      "execution_count": 36,
      "outputs": [
        {
          "output_type": "execute_result",
          "data": {
            "text/plain": [
              "             Region         Date  Frequency   Estimated Unemployment Rate (%)  \\\n",
              "0    Andhra Pradesh   31-01-2020          M                              5.48   \n",
              "1    Andhra Pradesh   29-02-2020          M                              5.83   \n",
              "2    Andhra Pradesh   31-03-2020          M                              5.79   \n",
              "3    Andhra Pradesh   30-04-2020          M                             20.51   \n",
              "4    Andhra Pradesh   31-05-2020          M                             17.43   \n",
              "..              ...          ...        ...                               ...   \n",
              "262     West Bengal   30-06-2020          M                              7.29   \n",
              "263     West Bengal   31-07-2020          M                              6.83   \n",
              "264     West Bengal   31-08-2020          M                             14.87   \n",
              "265     West Bengal   30-09-2020          M                              9.35   \n",
              "266     West Bengal   31-10-2020          M                              9.98   \n",
              "\n",
              "      Estimated Employed   Estimated Labour Participation Rate (%) Region.1  \\\n",
              "0               16635535                                     41.02    South   \n",
              "1               16545652                                     40.90    South   \n",
              "2               15881197                                     39.18    South   \n",
              "3               11336911                                     33.10    South   \n",
              "4               12988845                                     36.46    South   \n",
              "..                   ...                                       ...      ...   \n",
              "262             30726310                                     40.39     East   \n",
              "263             35372506                                     46.17     East   \n",
              "264             33298644                                     47.48     East   \n",
              "265             35707239                                     47.73     East   \n",
              "266             33962549                                     45.63     East   \n",
              "\n",
              "     longitude  latitude  \n",
              "0      15.9129    79.740  \n",
              "1      15.9129    79.740  \n",
              "2      15.9129    79.740  \n",
              "3      15.9129    79.740  \n",
              "4      15.9129    79.740  \n",
              "..         ...       ...  \n",
              "262    22.9868    87.855  \n",
              "263    22.9868    87.855  \n",
              "264    22.9868    87.855  \n",
              "265    22.9868    87.855  \n",
              "266    22.9868    87.855  \n",
              "\n",
              "[267 rows x 9 columns]"
            ],
            "text/html": [
              "\n",
              "  <div id=\"df-dacb0e5d-c68c-47c5-a55b-2a254fdc3383\">\n",
              "    <div class=\"colab-df-container\">\n",
              "      <div>\n",
              "<style scoped>\n",
              "    .dataframe tbody tr th:only-of-type {\n",
              "        vertical-align: middle;\n",
              "    }\n",
              "\n",
              "    .dataframe tbody tr th {\n",
              "        vertical-align: top;\n",
              "    }\n",
              "\n",
              "    .dataframe thead th {\n",
              "        text-align: right;\n",
              "    }\n",
              "</style>\n",
              "<table border=\"1\" class=\"dataframe\">\n",
              "  <thead>\n",
              "    <tr style=\"text-align: right;\">\n",
              "      <th></th>\n",
              "      <th>Region</th>\n",
              "      <th>Date</th>\n",
              "      <th>Frequency</th>\n",
              "      <th>Estimated Unemployment Rate (%)</th>\n",
              "      <th>Estimated Employed</th>\n",
              "      <th>Estimated Labour Participation Rate (%)</th>\n",
              "      <th>Region.1</th>\n",
              "      <th>longitude</th>\n",
              "      <th>latitude</th>\n",
              "    </tr>\n",
              "  </thead>\n",
              "  <tbody>\n",
              "    <tr>\n",
              "      <th>0</th>\n",
              "      <td>Andhra Pradesh</td>\n",
              "      <td>31-01-2020</td>\n",
              "      <td>M</td>\n",
              "      <td>5.48</td>\n",
              "      <td>16635535</td>\n",
              "      <td>41.02</td>\n",
              "      <td>South</td>\n",
              "      <td>15.9129</td>\n",
              "      <td>79.740</td>\n",
              "    </tr>\n",
              "    <tr>\n",
              "      <th>1</th>\n",
              "      <td>Andhra Pradesh</td>\n",
              "      <td>29-02-2020</td>\n",
              "      <td>M</td>\n",
              "      <td>5.83</td>\n",
              "      <td>16545652</td>\n",
              "      <td>40.90</td>\n",
              "      <td>South</td>\n",
              "      <td>15.9129</td>\n",
              "      <td>79.740</td>\n",
              "    </tr>\n",
              "    <tr>\n",
              "      <th>2</th>\n",
              "      <td>Andhra Pradesh</td>\n",
              "      <td>31-03-2020</td>\n",
              "      <td>M</td>\n",
              "      <td>5.79</td>\n",
              "      <td>15881197</td>\n",
              "      <td>39.18</td>\n",
              "      <td>South</td>\n",
              "      <td>15.9129</td>\n",
              "      <td>79.740</td>\n",
              "    </tr>\n",
              "    <tr>\n",
              "      <th>3</th>\n",
              "      <td>Andhra Pradesh</td>\n",
              "      <td>30-04-2020</td>\n",
              "      <td>M</td>\n",
              "      <td>20.51</td>\n",
              "      <td>11336911</td>\n",
              "      <td>33.10</td>\n",
              "      <td>South</td>\n",
              "      <td>15.9129</td>\n",
              "      <td>79.740</td>\n",
              "    </tr>\n",
              "    <tr>\n",
              "      <th>4</th>\n",
              "      <td>Andhra Pradesh</td>\n",
              "      <td>31-05-2020</td>\n",
              "      <td>M</td>\n",
              "      <td>17.43</td>\n",
              "      <td>12988845</td>\n",
              "      <td>36.46</td>\n",
              "      <td>South</td>\n",
              "      <td>15.9129</td>\n",
              "      <td>79.740</td>\n",
              "    </tr>\n",
              "    <tr>\n",
              "      <th>...</th>\n",
              "      <td>...</td>\n",
              "      <td>...</td>\n",
              "      <td>...</td>\n",
              "      <td>...</td>\n",
              "      <td>...</td>\n",
              "      <td>...</td>\n",
              "      <td>...</td>\n",
              "      <td>...</td>\n",
              "      <td>...</td>\n",
              "    </tr>\n",
              "    <tr>\n",
              "      <th>262</th>\n",
              "      <td>West Bengal</td>\n",
              "      <td>30-06-2020</td>\n",
              "      <td>M</td>\n",
              "      <td>7.29</td>\n",
              "      <td>30726310</td>\n",
              "      <td>40.39</td>\n",
              "      <td>East</td>\n",
              "      <td>22.9868</td>\n",
              "      <td>87.855</td>\n",
              "    </tr>\n",
              "    <tr>\n",
              "      <th>263</th>\n",
              "      <td>West Bengal</td>\n",
              "      <td>31-07-2020</td>\n",
              "      <td>M</td>\n",
              "      <td>6.83</td>\n",
              "      <td>35372506</td>\n",
              "      <td>46.17</td>\n",
              "      <td>East</td>\n",
              "      <td>22.9868</td>\n",
              "      <td>87.855</td>\n",
              "    </tr>\n",
              "    <tr>\n",
              "      <th>264</th>\n",
              "      <td>West Bengal</td>\n",
              "      <td>31-08-2020</td>\n",
              "      <td>M</td>\n",
              "      <td>14.87</td>\n",
              "      <td>33298644</td>\n",
              "      <td>47.48</td>\n",
              "      <td>East</td>\n",
              "      <td>22.9868</td>\n",
              "      <td>87.855</td>\n",
              "    </tr>\n",
              "    <tr>\n",
              "      <th>265</th>\n",
              "      <td>West Bengal</td>\n",
              "      <td>30-09-2020</td>\n",
              "      <td>M</td>\n",
              "      <td>9.35</td>\n",
              "      <td>35707239</td>\n",
              "      <td>47.73</td>\n",
              "      <td>East</td>\n",
              "      <td>22.9868</td>\n",
              "      <td>87.855</td>\n",
              "    </tr>\n",
              "    <tr>\n",
              "      <th>266</th>\n",
              "      <td>West Bengal</td>\n",
              "      <td>31-10-2020</td>\n",
              "      <td>M</td>\n",
              "      <td>9.98</td>\n",
              "      <td>33962549</td>\n",
              "      <td>45.63</td>\n",
              "      <td>East</td>\n",
              "      <td>22.9868</td>\n",
              "      <td>87.855</td>\n",
              "    </tr>\n",
              "  </tbody>\n",
              "</table>\n",
              "<p>267 rows × 9 columns</p>\n",
              "</div>\n",
              "      <button class=\"colab-df-convert\" onclick=\"convertToInteractive('df-dacb0e5d-c68c-47c5-a55b-2a254fdc3383')\"\n",
              "              title=\"Convert this dataframe to an interactive table.\"\n",
              "              style=\"display:none;\">\n",
              "        \n",
              "  <svg xmlns=\"http://www.w3.org/2000/svg\" height=\"24px\"viewBox=\"0 0 24 24\"\n",
              "       width=\"24px\">\n",
              "    <path d=\"M0 0h24v24H0V0z\" fill=\"none\"/>\n",
              "    <path d=\"M18.56 5.44l.94 2.06.94-2.06 2.06-.94-2.06-.94-.94-2.06-.94 2.06-2.06.94zm-11 1L8.5 8.5l.94-2.06 2.06-.94-2.06-.94L8.5 2.5l-.94 2.06-2.06.94zm10 10l.94 2.06.94-2.06 2.06-.94-2.06-.94-.94-2.06-.94 2.06-2.06.94z\"/><path d=\"M17.41 7.96l-1.37-1.37c-.4-.4-.92-.59-1.43-.59-.52 0-1.04.2-1.43.59L10.3 9.45l-7.72 7.72c-.78.78-.78 2.05 0 2.83L4 21.41c.39.39.9.59 1.41.59.51 0 1.02-.2 1.41-.59l7.78-7.78 2.81-2.81c.8-.78.8-2.07 0-2.86zM5.41 20L4 18.59l7.72-7.72 1.47 1.35L5.41 20z\"/>\n",
              "  </svg>\n",
              "      </button>\n",
              "      \n",
              "  <style>\n",
              "    .colab-df-container {\n",
              "      display:flex;\n",
              "      flex-wrap:wrap;\n",
              "      gap: 12px;\n",
              "    }\n",
              "\n",
              "    .colab-df-convert {\n",
              "      background-color: #E8F0FE;\n",
              "      border: none;\n",
              "      border-radius: 50%;\n",
              "      cursor: pointer;\n",
              "      display: none;\n",
              "      fill: #1967D2;\n",
              "      height: 32px;\n",
              "      padding: 0 0 0 0;\n",
              "      width: 32px;\n",
              "    }\n",
              "\n",
              "    .colab-df-convert:hover {\n",
              "      background-color: #E2EBFA;\n",
              "      box-shadow: 0px 1px 2px rgba(60, 64, 67, 0.3), 0px 1px 3px 1px rgba(60, 64, 67, 0.15);\n",
              "      fill: #174EA6;\n",
              "    }\n",
              "\n",
              "    [theme=dark] .colab-df-convert {\n",
              "      background-color: #3B4455;\n",
              "      fill: #D2E3FC;\n",
              "    }\n",
              "\n",
              "    [theme=dark] .colab-df-convert:hover {\n",
              "      background-color: #434B5C;\n",
              "      box-shadow: 0px 1px 3px 1px rgba(0, 0, 0, 0.15);\n",
              "      filter: drop-shadow(0px 1px 2px rgba(0, 0, 0, 0.3));\n",
              "      fill: #FFFFFF;\n",
              "    }\n",
              "  </style>\n",
              "\n",
              "      <script>\n",
              "        const buttonEl =\n",
              "          document.querySelector('#df-dacb0e5d-c68c-47c5-a55b-2a254fdc3383 button.colab-df-convert');\n",
              "        buttonEl.style.display =\n",
              "          google.colab.kernel.accessAllowed ? 'block' : 'none';\n",
              "\n",
              "        async function convertToInteractive(key) {\n",
              "          const element = document.querySelector('#df-dacb0e5d-c68c-47c5-a55b-2a254fdc3383');\n",
              "          const dataTable =\n",
              "            await google.colab.kernel.invokeFunction('convertToInteractive',\n",
              "                                                     [key], {});\n",
              "          if (!dataTable) return;\n",
              "\n",
              "          const docLinkHtml = 'Like what you see? Visit the ' +\n",
              "            '<a target=\"_blank\" href=https://colab.research.google.com/notebooks/data_table.ipynb>data table notebook</a>'\n",
              "            + ' to learn more about interactive tables.';\n",
              "          element.innerHTML = '';\n",
              "          dataTable['output_type'] = 'display_data';\n",
              "          await google.colab.output.renderOutput(dataTable, element);\n",
              "          const docLink = document.createElement('div');\n",
              "          docLink.innerHTML = docLinkHtml;\n",
              "          element.appendChild(docLink);\n",
              "        }\n",
              "      </script>\n",
              "    </div>\n",
              "  </div>\n",
              "  "
            ]
          },
          "metadata": {},
          "execution_count": 36
        }
      ]
    },
    {
      "cell_type": "code",
      "source": [
        "df1.shape"
      ],
      "metadata": {
        "colab": {
          "base_uri": "https://localhost:8080/"
        },
        "id": "cvvgE2WdAC3R",
        "outputId": "84098656-a508-4186-d0c1-99d9dd996696"
      },
      "execution_count": 37,
      "outputs": [
        {
          "output_type": "execute_result",
          "data": {
            "text/plain": [
              "(768, 7)"
            ]
          },
          "metadata": {},
          "execution_count": 37
        }
      ]
    },
    {
      "cell_type": "code",
      "source": [
        "df2.shape"
      ],
      "metadata": {
        "colab": {
          "base_uri": "https://localhost:8080/"
        },
        "id": "pPQlpD-OAC6d",
        "outputId": "00e97d83-915e-4e7d-8547-c0b51a62a1fd"
      },
      "execution_count": 38,
      "outputs": [
        {
          "output_type": "execute_result",
          "data": {
            "text/plain": [
              "(267, 9)"
            ]
          },
          "metadata": {},
          "execution_count": 38
        }
      ]
    },
    {
      "cell_type": "code",
      "source": [
        "df1.columns"
      ],
      "metadata": {
        "colab": {
          "base_uri": "https://localhost:8080/"
        },
        "id": "yBc6kcznnJdN",
        "outputId": "e7c07a1e-8f7e-46cd-81e8-fe045ea89eca"
      },
      "execution_count": 39,
      "outputs": [
        {
          "output_type": "execute_result",
          "data": {
            "text/plain": [
              "Index(['Region', ' Date', ' Frequency', ' Estimated Unemployment Rate (%)',\n",
              "       ' Estimated Employed', ' Estimated Labour Participation Rate (%)',\n",
              "       'Area'],\n",
              "      dtype='object')"
            ]
          },
          "metadata": {},
          "execution_count": 39
        }
      ]
    },
    {
      "cell_type": "code",
      "source": [
        "df2.columns"
      ],
      "metadata": {
        "colab": {
          "base_uri": "https://localhost:8080/"
        },
        "id": "c-SxO1yvnJa2",
        "outputId": "848b29bd-15b0-4ad4-fff6-cbb8d8ea4f36"
      },
      "execution_count": 40,
      "outputs": [
        {
          "output_type": "execute_result",
          "data": {
            "text/plain": [
              "Index(['Region', ' Date', ' Frequency', ' Estimated Unemployment Rate (%)',\n",
              "       ' Estimated Employed', ' Estimated Labour Participation Rate (%)',\n",
              "       'Region.1', 'longitude', 'latitude'],\n",
              "      dtype='object')"
            ]
          },
          "metadata": {},
          "execution_count": 40
        }
      ]
    },
    {
      "cell_type": "code",
      "source": [
        "df1.rename(columns={'Region':'State',' Estimated Unemployment Rate (%)':'EUR',' Estimated Employed':'EE',' Estimated Labour Participation Rate (%)':'ELPR'},inplace=True)\n",
        "df2.rename(columns={'Region':'State','Region.1':'Region', ' Estimated Unemployment Rate (%)':'EUR',' Estimated Employed':'EE',' Estimated Labour Participation Rate (%)':'ELPR'},inplace=True)"
      ],
      "metadata": {
        "id": "FhT-Uu7JU1my"
      },
      "execution_count": 41,
      "outputs": []
    },
    {
      "cell_type": "code",
      "source": [
        "df1.drop(df1[df1['EUR']==0].index,inplace=True)"
      ],
      "metadata": {
        "id": "nCck4kHt9JOn"
      },
      "execution_count": 42,
      "outputs": []
    },
    {
      "cell_type": "code",
      "source": [
        "df2.drop(df2[df2['EUR']==0].index,inplace=True)"
      ],
      "metadata": {
        "id": "Uto-YbCE-Cnp"
      },
      "execution_count": 43,
      "outputs": []
    },
    {
      "cell_type": "code",
      "source": [
        "df1.isna().sum()\n",
        "sns.heatmap(df1.isna(),cbar=False)\n",
        "#we can drop these all values are on the same rows"
      ],
      "metadata": {
        "colab": {
          "base_uri": "https://localhost:8080/",
          "height": 288
        },
        "id": "PGU5COM-ALo1",
        "outputId": "e41f3c53-d922-4e34-aac9-db9f7cb8c14e"
      },
      "execution_count": 44,
      "outputs": [
        {
          "output_type": "execute_result",
          "data": {
            "text/plain": [
              "<AxesSubplot:>"
            ]
          },
          "metadata": {},
          "execution_count": 44
        },
        {
          "output_type": "display_data",
          "data": {
            "text/plain": [
              "<Figure size 432x288 with 1 Axes>"
            ],
            "image/png": "[encoded data removed]"
          },
          "metadata": {
            "needs_background": "light"
          }
        }
      ]
    },
    {
      "cell_type": "code",
      "source": [
        "df1.dropna(axis=0,inplace=True)"
      ],
      "metadata": {
        "id": "N6NDlvV0AenE"
      },
      "execution_count": 45,
      "outputs": []
    },
    {
      "cell_type": "code",
      "source": [
        "df1.shape"
      ],
      "metadata": {
        "colab": {
          "base_uri": "https://localhost:8080/"
        },
        "id": "TFy_bpBPAlrc",
        "outputId": "5f36d6ce-5b42-4cc8-e96f-2688841b8540"
      },
      "execution_count": 46,
      "outputs": [
        {
          "output_type": "execute_result",
          "data": {
            "text/plain": [
              "(729, 7)"
            ]
          },
          "metadata": {},
          "execution_count": 46
        }
      ]
    },
    {
      "cell_type": "code",
      "source": [
        "df1['State'].unique()"
      ],
      "metadata": {
        "colab": {
          "base_uri": "https://localhost:8080/"
        },
        "id": "GhlQTelRrjjt",
        "outputId": "71d8ea86-b100-4961-971d-ce2e5bfee239"
      },
      "execution_count": 47,
      "outputs": [
        {
          "output_type": "execute_result",
          "data": {
            "text/plain": [
              "array(['Andhra Pradesh', 'Assam', 'Bihar', 'Chhattisgarh', 'Delhi', 'Goa',\n",
              "       'Gujarat', 'Haryana', 'Himachal Pradesh', 'Jammu & Kashmir',\n",
              "       'Jharkhand', 'Karnataka', 'Kerala', 'Madhya Pradesh',\n",
              "       'Maharashtra', 'Meghalaya', 'Odisha', 'Puducherry', 'Punjab',\n",
              "       'Rajasthan', 'Sikkim', 'Tamil Nadu', 'Telangana', 'Tripura',\n",
              "       'Uttar Pradesh', 'Uttarakhand', 'West Bengal', 'Chandigarh'],\n",
              "      dtype=object)"
            ]
          },
          "metadata": {},
          "execution_count": 47
        }
      ]
    },
    {
      "cell_type": "code",
      "source": [
        "df2['Region'].unique()"
      ],
      "metadata": {
        "colab": {
          "base_uri": "https://localhost:8080/"
        },
        "id": "5WrMrs3HEI1D",
        "outputId": "bb73f2be-dc0c-414a-a2d8-8e02127b4f65"
      },
      "execution_count": 48,
      "outputs": [
        {
          "output_type": "execute_result",
          "data": {
            "text/plain": [
              "array(['South', 'Northeast', 'East', 'West', 'North'], dtype=object)"
            ]
          },
          "metadata": {},
          "execution_count": 48
        }
      ]
    },
    {
      "cell_type": "code",
      "source": [
        "north=df2[df2['Region']=='North']['State'].unique()\n",
        "south=df2[df2['Region']=='South']['State'].unique()\n",
        "west=df2[df2['Region']=='West']['State'].unique()\n",
        "east=df2[df2['Region']=='East']['State'].unique()\n",
        "northeast=df2[df2['Region']=='NorthEast']['State'].unique()\n",
        "#chandigarh is not mentioned in df2.so need to add it as in North"
      ],
      "metadata": {
        "id": "hshsNJc969dt"
      },
      "execution_count": 49,
      "outputs": []
    },
    {
      "cell_type": "code",
      "source": [
        "Region_1=[]\n",
        "for i in df1['State']:\n",
        "  if i in north:\n",
        "    Region_1.append('North')\n",
        "  elif i in south:\n",
        "    Region_1.append('South')\n",
        "  elif i in west:\n",
        "    Region_1.append('West')\n",
        "  elif i in east:\n",
        "    Region_1.append('East')\n",
        "  elif i in northeast:\n",
        "    Region_1.append('Northeast')\n",
        "  else:\n",
        "    Region_1.append('North')\n",
        "df1['Region']=Region_1\n",
        "df1"
      ],
      "metadata": {
        "colab": {
          "base_uri": "https://localhost:8080/",
          "height": 423
        },
        "id": "m--3_xJH7mb9",
        "outputId": "c58cdbd7-835c-4ee3-9c99-8e17893ce283"
      },
      "execution_count": 50,
      "outputs": [
        {
          "output_type": "execute_result",
          "data": {
            "text/plain": [
              "              State         Date  Frequency    EUR          EE   ELPR   Area  \\\n",
              "0    Andhra Pradesh   31-05-2019    Monthly   3.65  11999139.0  43.24  Rural   \n",
              "1    Andhra Pradesh   30-06-2019    Monthly   3.05  11755881.0  42.05  Rural   \n",
              "2    Andhra Pradesh   31-07-2019    Monthly   3.75  12086707.0  43.50  Rural   \n",
              "3    Andhra Pradesh   31-08-2019    Monthly   3.32  12285693.0  43.97  Rural   \n",
              "4    Andhra Pradesh   30-09-2019    Monthly   5.17  12256762.0  44.68  Rural   \n",
              "..              ...          ...        ...    ...         ...    ...    ...   \n",
              "749     West Bengal   29-02-2020    Monthly   7.55  10871168.0  44.09  Urban   \n",
              "750     West Bengal   31-03-2020    Monthly   6.67  10806105.0  43.34  Urban   \n",
              "751     West Bengal   30-04-2020    Monthly  15.63   9299466.0  41.20  Urban   \n",
              "752     West Bengal   31-05-2020    Monthly  15.22   9240903.0  40.67  Urban   \n",
              "753     West Bengal   30-06-2020    Monthly   9.86   9088931.0  37.57  Urban   \n",
              "\n",
              "    Region  \n",
              "0    South  \n",
              "1    South  \n",
              "2    South  \n",
              "3    South  \n",
              "4    South  \n",
              "..     ...  \n",
              "749   East  \n",
              "750   East  \n",
              "751   East  \n",
              "752   East  \n",
              "753   East  \n",
              "\n",
              "[729 rows x 8 columns]"
            ],
            "text/html": [
              "\n",
              "  <div id=\"df-b0207da9-7e43-433b-96ab-11fe320987df\">\n",
              "    <div class=\"colab-df-container\">\n",
              "      <div>\n",
              "<style scoped>\n",
              "    .dataframe tbody tr th:only-of-type {\n",
              "        vertical-align: middle;\n",
              "    }\n",
              "\n",
              "    .dataframe tbody tr th {\n",
              "        vertical-align: top;\n",
              "    }\n",
              "\n",
              "    .dataframe thead th {\n",
              "        text-align: right;\n",
              "    }\n",
              "</style>\n",
              "<table border=\"1\" class=\"dataframe\">\n",
              "  <thead>\n",
              "    <tr style=\"text-align: right;\">\n",
              "      <th></th>\n",
              "      <th>State</th>\n",
              "      <th>Date</th>\n",
              "      <th>Frequency</th>\n",
              "      <th>EUR</th>\n",
              "      <th>EE</th>\n",
              "      <th>ELPR</th>\n",
              "      <th>Area</th>\n",
              "      <th>Region</th>\n",
              "    </tr>\n",
              "  </thead>\n",
              "  <tbody>\n",
              "    <tr>\n",
              "      <th>0</th>\n",
              "      <td>Andhra Pradesh</td>\n",
              "      <td>31-05-2019</td>\n",
              "      <td>Monthly</td>\n",
              "      <td>3.65</td>\n",
              "      <td>11999139.0</td>\n",
              "      <td>43.24</td>\n",
              "      <td>Rural</td>\n",
              "      <td>South</td>\n",
              "    </tr>\n",
              "    <tr>\n",
              "      <th>1</th>\n",
              "      <td>Andhra Pradesh</td>\n",
              "      <td>30-06-2019</td>\n",
              "      <td>Monthly</td>\n",
              "      <td>3.05</td>\n",
              "      <td>11755881.0</td>\n",
              "      <td>42.05</td>\n",
              "      <td>Rural</td>\n",
              "      <td>South</td>\n",
              "    </tr>\n",
              "    <tr>\n",
              "      <th>2</th>\n",
              "      <td>Andhra Pradesh</td>\n",
              "      <td>31-07-2019</td>\n",
              "      <td>Monthly</td>\n",
              "      <td>3.75</td>\n",
              "      <td>12086707.0</td>\n",
              "      <td>43.50</td>\n",
              "      <td>Rural</td>\n",
              "      <td>South</td>\n",
              "    </tr>\n",
              "    <tr>\n",
              "      <th>3</th>\n",
              "      <td>Andhra Pradesh</td>\n",
              "      <td>31-08-2019</td>\n",
              "      <td>Monthly</td>\n",
              "      <td>3.32</td>\n",
              "      <td>12285693.0</td>\n",
              "      <td>43.97</td>\n",
              "      <td>Rural</td>\n",
              "      <td>South</td>\n",
              "    </tr>\n",
              "    <tr>\n",
              "      <th>4</th>\n",
              "      <td>Andhra Pradesh</td>\n",
              "      <td>30-09-2019</td>\n",
              "      <td>Monthly</td>\n",
              "      <td>5.17</td>\n",
              "      <td>12256762.0</td>\n",
              "      <td>44.68</td>\n",
              "      <td>Rural</td>\n",
              "      <td>South</td>\n",
              "    </tr>\n",
              "    <tr>\n",
              "      <th>...</th>\n",
              "      <td>...</td>\n",
              "      <td>...</td>\n",
              "      <td>...</td>\n",
              "      <td>...</td>\n",
              "      <td>...</td>\n",
              "      <td>...</td>\n",
              "      <td>...</td>\n",
              "      <td>...</td>\n",
              "    </tr>\n",
              "    <tr>\n",
              "      <th>749</th>\n",
              "      <td>West Bengal</td>\n",
              "      <td>29-02-2020</td>\n",
              "      <td>Monthly</td>\n",
              "      <td>7.55</td>\n",
              "      <td>10871168.0</td>\n",
              "      <td>44.09</td>\n",
              "      <td>Urban</td>\n",
              "      <td>East</td>\n",
              "    </tr>\n",
              "    <tr>\n",
              "      <th>750</th>\n",
              "      <td>West Bengal</td>\n",
              "      <td>31-03-2020</td>\n",
              "      <td>Monthly</td>\n",
              "      <td>6.67</td>\n",
              "      <td>10806105.0</td>\n",
              "      <td>43.34</td>\n",
              "      <td>Urban</td>\n",
              "      <td>East</td>\n",
              "    </tr>\n",
              "    <tr>\n",
              "      <th>751</th>\n",
              "      <td>West Bengal</td>\n",
              "      <td>30-04-2020</td>\n",
              "      <td>Monthly</td>\n",
              "      <td>15.63</td>\n",
              "      <td>9299466.0</td>\n",
              "      <td>41.20</td>\n",
              "      <td>Urban</td>\n",
              "      <td>East</td>\n",
              "    </tr>\n",
              "    <tr>\n",
              "      <th>752</th>\n",
              "      <td>West Bengal</td>\n",
              "      <td>31-05-2020</td>\n",
              "      <td>Monthly</td>\n",
              "      <td>15.22</td>\n",
              "      <td>9240903.0</td>\n",
              "      <td>40.67</td>\n",
              "      <td>Urban</td>\n",
              "      <td>East</td>\n",
              "    </tr>\n",
              "    <tr>\n",
              "      <th>753</th>\n",
              "      <td>West Bengal</td>\n",
              "      <td>30-06-2020</td>\n",
              "      <td>Monthly</td>\n",
              "      <td>9.86</td>\n",
              "      <td>9088931.0</td>\n",
              "      <td>37.57</td>\n",
              "      <td>Urban</td>\n",
              "      <td>East</td>\n",
              "    </tr>\n",
              "  </tbody>\n",
              "</table>\n",
              "<p>729 rows × 8 columns</p>\n",
              "</div>\n",
              "      <button class=\"colab-df-convert\" onclick=\"convertToInteractive('df-b0207da9-7e43-433b-96ab-11fe320987df')\"\n",
              "              title=\"Convert this dataframe to an interactive table.\"\n",
              "              style=\"display:none;\">\n",
              "        \n",
              "  <svg xmlns=\"http://www.w3.org/2000/svg\" height=\"24px\"viewBox=\"0 0 24 24\"\n",
              "       width=\"24px\">\n",
              "    <path d=\"M0 0h24v24H0V0z\" fill=\"none\"/>\n",
              "    <path d=\"M18.56 5.44l.94 2.06.94-2.06 2.06-.94-2.06-.94-.94-2.06-.94 2.06-2.06.94zm-11 1L8.5 8.5l.94-2.06 2.06-.94-2.06-.94L8.5 2.5l-.94 2.06-2.06.94zm10 10l.94 2.06.94-2.06 2.06-.94-2.06-.94-.94-2.06-.94 2.06-2.06.94z\"/><path d=\"M17.41 7.96l-1.37-1.37c-.4-.4-.92-.59-1.43-.59-.52 0-1.04.2-1.43.59L10.3 9.45l-7.72 7.72c-.78.78-.78 2.05 0 2.83L4 21.41c.39.39.9.59 1.41.59.51 0 1.02-.2 1.41-.59l7.78-7.78 2.81-2.81c.8-.78.8-2.07 0-2.86zM5.41 20L4 18.59l7.72-7.72 1.47 1.35L5.41 20z\"/>\n",
              "  </svg>\n",
              "      </button>\n",
              "      \n",
              "  <style>\n",
              "    .colab-df-container {\n",
              "      display:flex;\n",
              "      flex-wrap:wrap;\n",
              "      gap: 12px;\n",
              "    }\n",
              "\n",
              "    .colab-df-convert {\n",
              "      background-color: #E8F0FE;\n",
              "      border: none;\n",
              "      border-radius: 50%;\n",
              "      cursor: pointer;\n",
              "      display: none;\n",
              "      fill: #1967D2;\n",
              "      height: 32px;\n",
              "      padding: 0 0 0 0;\n",
              "      width: 32px;\n",
              "    }\n",
              "\n",
              "    .colab-df-convert:hover {\n",
              "      background-color: #E2EBFA;\n",
              "      box-shadow: 0px 1px 2px rgba(60, 64, 67, 0.3), 0px 1px 3px 1px rgba(60, 64, 67, 0.15);\n",
              "      fill: #174EA6;\n",
              "    }\n",
              "\n",
              "    [theme=dark] .colab-df-convert {\n",
              "      background-color: #3B4455;\n",
              "      fill: #D2E3FC;\n",
              "    }\n",
              "\n",
              "    [theme=dark] .colab-df-convert:hover {\n",
              "      background-color: #434B5C;\n",
              "      box-shadow: 0px 1px 3px 1px rgba(0, 0, 0, 0.15);\n",
              "      filter: drop-shadow(0px 1px 2px rgba(0, 0, 0, 0.3));\n",
              "      fill: #FFFFFF;\n",
              "    }\n",
              "  </style>\n",
              "\n",
              "      <script>\n",
              "        const buttonEl =\n",
              "          document.querySelector('#df-b0207da9-7e43-433b-96ab-11fe320987df button.colab-df-convert');\n",
              "        buttonEl.style.display =\n",
              "          google.colab.kernel.accessAllowed ? 'block' : 'none';\n",
              "\n",
              "        async function convertToInteractive(key) {\n",
              "          const element = document.querySelector('#df-b0207da9-7e43-433b-96ab-11fe320987df');\n",
              "          const dataTable =\n",
              "            await google.colab.kernel.invokeFunction('convertToInteractive',\n",
              "                                                     [key], {});\n",
              "          if (!dataTable) return;\n",
              "\n",
              "          const docLinkHtml = 'Like what you see? Visit the ' +\n",
              "            '<a target=\"_blank\" href=https://colab.research.google.com/notebooks/data_table.ipynb>data table notebook</a>'\n",
              "            + ' to learn more about interactive tables.';\n",
              "          element.innerHTML = '';\n",
              "          dataTable['output_type'] = 'display_data';\n",
              "          await google.colab.output.renderOutput(dataTable, element);\n",
              "          const docLink = document.createElement('div');\n",
              "          docLink.innerHTML = docLinkHtml;\n",
              "          element.appendChild(docLink);\n",
              "        }\n",
              "      </script>\n",
              "    </div>\n",
              "  </div>\n",
              "  "
            ]
          },
          "metadata": {},
          "execution_count": 50
        }
      ]
    },
    {
      "cell_type": "code",
      "source": [
        "df1[' Frequency'].unique()\n",
        "df2[' Frequency'].unique()\n",
        "#its only monthly and it can be dropped from both the dfs\n",
        "df1.drop([' Frequency'],axis=1,inplace=True)\n",
        "df2.drop([' Frequency'],axis=1,inplace=True)"
      ],
      "metadata": {
        "id": "bL2mHttvE57N"
      },
      "execution_count": 51,
      "outputs": []
    },
    {
      "cell_type": "code",
      "source": [
        "#splitting month and year to ad as seperate columns\n",
        "df1['Month']=df1[' Date'].str.split('-').str[1]\n",
        "df1['Year']=df1[' Date'].str.split('-').str[2]\n",
        "df2['Month']=df2[' Date'].str.split('-').str[1]\n",
        "df2['Year']=df1[' Date'].str.split('-').str[2]\n",
        "df1.drop([' Date'],axis=1,inplace=True)\n",
        "df2.drop([' Date'],axis=1,inplace=True)"
      ],
      "metadata": {
        "id": "xiiS4xm5FVcL"
      },
      "execution_count": 52,
      "outputs": []
    },
    {
      "cell_type": "code",
      "source": [
        "df1['Date']=df1['Month']+'/'+df1['Year']\n",
        "df2['Date']=df2['Month']+'/'+df2['Year']\n",
        "df1.drop(['Month','Year'],axis=1,inplace=True)\n",
        "df2.drop(['Month','Year'],axis=1,inplace=True)"
      ],
      "metadata": {
        "id": "uid0io0kKFNL"
      },
      "execution_count": 53,
      "outputs": []
    },
    {
      "cell_type": "code",
      "source": [
        "#we will use df1 and df2 for visualization\n",
        "#estimated employed is the percent of ppl employed\n",
        "#Estimated Labour Participation Rate (%) is the rate of ppl who are actually working compared to total ppl who are eleigible for the labour"
      ],
      "metadata": {
        "id": "OZ__CqqwmwSU"
      },
      "execution_count": 54,
      "outputs": []
    },
    {
      "cell_type": "markdown",
      "source": [
        "**3. Visualize the Data**"
      ],
      "metadata": {
        "id": "lGLeJoZ0dVpm"
      }
    },
    {
      "cell_type": "code",
      "source": [
        "fig=plt.subplots(figsize=(15,10))\n",
        "mnt=['EUR','EE','ELPR']\n",
        "for p,q in enumerate(mnt):\n",
        "  plt.subplot(1,3,p+1)\n",
        "  plt.subplots_adjust(wspace=1)\n",
        "  ax=sns.boxplot(x=q,y='Date',data=df1,palette='mako')\n",
        "  plt.ylabel(' ')"
      ],
      "metadata": {
        "colab": {
          "base_uri": "https://localhost:8080/",
          "height": 606
        },
        "id": "PcbI238kFuCr",
        "outputId": "9e521c5a-ddc5-4fb0-aa39-2a374f4d71bb"
      },
      "execution_count": 68,
      "outputs": [
        {
          "output_type": "display_data",
          "data": {
            "text/plain": [
              "<Figure size 1080x720 with 3 Axes>"
            ],
            "image/png": "[encoded data removed]"
          },
          "metadata": {
            "needs_background": "light"
          }
        }
      ]
    },
    {
      "cell_type": "markdown",
      "source": [
        "# **How covid-19 affects the employment?**\n",
        "\n",
        "\n",
        "*It is clear from the plot that during the time when covid started to increase exponentially, there was a sudden increase in unemployment rate.\n",
        "likewise,employee labour participation and estimated employed rate decreased.*\n"
      ],
      "metadata": {
        "id": "Z2RJ6Vq1oD6h"
      }
    },
    {
      "cell_type": "code",
      "source": [
        "df1.groupby(['State','Area'])['EUR'].mean().to_frame().rename({'EUR':'Estimated Unemployment Rate'},axis=1).style.background_gradient('mako_r')"
      ],
      "metadata": {
        "id": "DvuZ7oYBmwZW",
        "colab": {
          "base_uri": "https://localhost:8080/",
          "height": 1000
        },
        "outputId": "c8a1b903-72e7-487f-ec1c-c5d17bcd9d77"
      },
      "execution_count": 56,
      "outputs": [
        {
          "output_type": "execute_result",
          "data": {
            "text/plain": [
              "<pandas.io.formats.style.Styler at 0x7f5bcff7b250>"
            ],
            "text/html": [
              "<style type=\"text/css\">\n",
              "#T_3f468_row0_col0 {\n",
              "  background-color: #a1dfb9;\n",
              "  color: #000000;\n",
              "}\n",
              "#T_3f468_row1_col0 {\n",
              "  background-color: #48c0ad;\n",
              "  color: #000000;\n",
              "}\n",
              "#T_3f468_row2_col0, #T_3f468_row51_col0 {\n",
              "  background-color: #b0e4c1;\n",
              "  color: #000000;\n",
              "}\n",
              "#T_3f468_row3_col0, #T_3f468_row42_col0, #T_3f468_row52_col0 {\n",
              "  background-color: #5bcdad;\n",
              "  color: #000000;\n",
              "}\n",
              "#T_3f468_row4_col0 {\n",
              "  background-color: #3572a1;\n",
              "  color: #f1f1f1;\n",
              "}\n",
              "#T_3f468_row5_col0 {\n",
              "  background-color: #414387;\n",
              "  color: #f1f1f1;\n",
              "}\n",
              "#T_3f468_row6_col0 {\n",
              "  background-color: #357ba3;\n",
              "  color: #f1f1f1;\n",
              "}\n",
              "#T_3f468_row7_col0, #T_3f468_row23_col0 {\n",
              "  background-color: #73d4ad;\n",
              "  color: #000000;\n",
              "}\n",
              "#T_3f468_row8_col0 {\n",
              "  background-color: #37a6ac;\n",
              "  color: #f1f1f1;\n",
              "}\n",
              "#T_3f468_row9_col0, #T_3f468_row21_col0 {\n",
              "  background-color: #3483a5;\n",
              "  color: #f1f1f1;\n",
              "}\n",
              "#T_3f468_row10_col0 {\n",
              "  background-color: #37689f;\n",
              "  color: #f1f1f1;\n",
              "}\n",
              "#T_3f468_row11_col0, #T_3f468_row28_col0 {\n",
              "  background-color: #4bc2ad;\n",
              "  color: #000000;\n",
              "}\n",
              "#T_3f468_row12_col0 {\n",
              "  background-color: #41b8ad;\n",
              "  color: #f1f1f1;\n",
              "}\n",
              "#T_3f468_row13_col0 {\n",
              "  background-color: #96ddb5;\n",
              "  color: #000000;\n",
              "}\n",
              "#T_3f468_row14_col0 {\n",
              "  background-color: #6dd3ad;\n",
              "  color: #000000;\n",
              "}\n",
              "#T_3f468_row15_col0 {\n",
              "  background-color: #332345;\n",
              "  color: #f1f1f1;\n",
              "}\n",
              "#T_3f468_row16_col0 {\n",
              "  background-color: #1e111f;\n",
              "  color: #f1f1f1;\n",
              "}\n",
              "#T_3f468_row17_col0 {\n",
              "  background-color: #347fa4;\n",
              "  color: #f1f1f1;\n",
              "}\n",
              "#T_3f468_row18_col0 {\n",
              "  background-color: #413e7f;\n",
              "  color: #f1f1f1;\n",
              "}\n",
              "#T_3f468_row19_col0 {\n",
              "  background-color: #3485a5;\n",
              "  color: #f1f1f1;\n",
              "}\n",
              "#T_3f468_row20_col0 {\n",
              "  background-color: #366a9f;\n",
              "  color: #f1f1f1;\n",
              "}\n",
              "#T_3f468_row22_col0 {\n",
              "  background-color: #2c1c36;\n",
              "  color: #f1f1f1;\n",
              "}\n",
              "#T_3f468_row24_col0 {\n",
              "  background-color: #91dbb4;\n",
              "  color: #000000;\n",
              "}\n",
              "#T_3f468_row25_col0 {\n",
              "  background-color: #3fb6ad;\n",
              "  color: #f1f1f1;\n",
              "}\n",
              "#T_3f468_row26_col0 {\n",
              "  background-color: #43baad;\n",
              "  color: #f1f1f1;\n",
              "}\n",
              "#T_3f468_row27_col0 {\n",
              "  background-color: #9cdeb7;\n",
              "  color: #000000;\n",
              "}\n",
              "#T_3f468_row29_col0 {\n",
              "  background-color: #7cd6af;\n",
              "  color: #000000;\n",
              "}\n",
              "#T_3f468_row30_col0 {\n",
              "  background-color: #57cbad;\n",
              "  color: #000000;\n",
              "}\n",
              "#T_3f468_row31_col0 {\n",
              "  background-color: #def5e5;\n",
              "  color: #000000;\n",
              "}\n",
              "#T_3f468_row32_col0 {\n",
              "  background-color: #70d4ad;\n",
              "  color: #000000;\n",
              "}\n",
              "#T_3f468_row33_col0 {\n",
              "  background-color: #82d8b0;\n",
              "  color: #000000;\n",
              "}\n",
              "#T_3f468_row34_col0 {\n",
              "  background-color: #b2e4c2;\n",
              "  color: #000000;\n",
              "}\n",
              "#T_3f468_row35_col0 {\n",
              "  background-color: #35a0ab;\n",
              "  color: #f1f1f1;\n",
              "}\n",
              "#T_3f468_row36_col0, #T_3f468_row50_col0 {\n",
              "  background-color: #3486a5;\n",
              "  color: #f1f1f1;\n",
              "}\n",
              "#T_3f468_row37_col0 {\n",
              "  background-color: #37a5ac;\n",
              "  color: #f1f1f1;\n",
              "}\n",
              "#T_3f468_row38_col0 {\n",
              "  background-color: #36a3ab;\n",
              "  color: #f1f1f1;\n",
              "}\n",
              "#T_3f468_row39_col0 {\n",
              "  background-color: #3cb1ad;\n",
              "  color: #f1f1f1;\n",
              "}\n",
              "#T_3f468_row40_col0 {\n",
              "  background-color: #366da0;\n",
              "  color: #f1f1f1;\n",
              "}\n",
              "#T_3f468_row41_col0 {\n",
              "  background-color: #8bdab2;\n",
              "  color: #000000;\n",
              "}\n",
              "#T_3f468_row43_col0 {\n",
              "  background-color: #50c6ad;\n",
              "  color: #000000;\n",
              "}\n",
              "#T_3f468_row44_col0 {\n",
              "  background-color: #44bcad;\n",
              "  color: #f1f1f1;\n",
              "}\n",
              "#T_3f468_row45_col0 {\n",
              "  background-color: #62cfac;\n",
              "  color: #000000;\n",
              "}\n",
              "#T_3f468_row46_col0, #T_3f468_row53_col0 {\n",
              "  background-color: #68d1ad;\n",
              "  color: #000000;\n",
              "}\n",
              "#T_3f468_row47_col0 {\n",
              "  background-color: #221425;\n",
              "  color: #f1f1f1;\n",
              "}\n",
              "#T_3f468_row48_col0 {\n",
              "  background-color: #0b0405;\n",
              "  color: #f1f1f1;\n",
              "}\n",
              "#T_3f468_row49_col0 {\n",
              "  background-color: #40b7ad;\n",
              "  color: #f1f1f1;\n",
              "}\n",
              "#T_3f468_row54_col0 {\n",
              "  background-color: #52c7ad;\n",
              "  color: #000000;\n",
              "}\n",
              "</style>\n",
              "<table id=\"T_3f468_\" class=\"dataframe\">\n",
              "  <thead>\n",
              "    <tr>\n",
              "      <th class=\"blank\" >&nbsp;</th>\n",
              "      <th class=\"blank level0\" >&nbsp;</th>\n",
              "      <th class=\"col_heading level0 col0\" >Estimated Unemployment Rate</th>\n",
              "    </tr>\n",
              "    <tr>\n",
              "      <th class=\"index_name level0\" >State</th>\n",
              "      <th class=\"index_name level1\" >Area</th>\n",
              "      <th class=\"blank col0\" >&nbsp;</th>\n",
              "    </tr>\n",
              "  </thead>\n",
              "  <tbody>\n",
              "    <tr>\n",
              "      <th id=\"T_3f468_level0_row0\" class=\"row_heading level0 row0\" rowspan=\"2\">Andhra Pradesh</th>\n",
              "      <th id=\"T_3f468_level1_row0\" class=\"row_heading level1 row0\" >Rural</th>\n",
              "      <td id=\"T_3f468_row0_col0\" class=\"data row0 col0\" >5.526429</td>\n",
              "    </tr>\n",
              "    <tr>\n",
              "      <th id=\"T_3f468_level1_row1\" class=\"row_heading level1 row1\" >Urban</th>\n",
              "      <td id=\"T_3f468_row1_col0\" class=\"data row1 col0\" >9.427857</td>\n",
              "    </tr>\n",
              "    <tr>\n",
              "      <th id=\"T_3f468_level0_row2\" class=\"row_heading level0 row2\" rowspan=\"2\">Assam</th>\n",
              "      <th id=\"T_3f468_level1_row2\" class=\"row_heading level1 row2\" >Rural</th>\n",
              "      <td id=\"T_3f468_row2_col0\" class=\"data row2 col0\" >4.899091</td>\n",
              "    </tr>\n",
              "    <tr>\n",
              "      <th id=\"T_3f468_level1_row3\" class=\"row_heading level1 row3\" >Urban</th>\n",
              "      <td id=\"T_3f468_row3_col0\" class=\"data row3 col0\" >8.088571</td>\n",
              "    </tr>\n",
              "    <tr>\n",
              "      <th id=\"T_3f468_level0_row4\" class=\"row_heading level0 row4\" rowspan=\"2\">Bihar</th>\n",
              "      <th id=\"T_3f468_level1_row4\" class=\"row_heading level1 row4\" >Rural</th>\n",
              "      <td id=\"T_3f468_row4_col0\" class=\"data row4 col0\" >16.770000</td>\n",
              "    </tr>\n",
              "    <tr>\n",
              "      <th id=\"T_3f468_level1_row5\" class=\"row_heading level1 row5\" >Urban</th>\n",
              "      <td id=\"T_3f468_row5_col0\" class=\"data row5 col0\" >21.066429</td>\n",
              "    </tr>\n",
              "    <tr>\n",
              "      <th id=\"T_3f468_level0_row6\" class=\"row_heading level0 row6\" >Chandigarh</th>\n",
              "      <th id=\"T_3f468_level1_row6\" class=\"row_heading level1 row6\" >Urban</th>\n",
              "      <td id=\"T_3f468_row6_col0\" class=\"data row6 col0\" >15.991667</td>\n",
              "    </tr>\n",
              "    <tr>\n",
              "      <th id=\"T_3f468_level0_row7\" class=\"row_heading level0 row7\" rowspan=\"2\">Chhattisgarh</th>\n",
              "      <th id=\"T_3f468_level1_row7\" class=\"row_heading level1 row7\" >Rural</th>\n",
              "      <td id=\"T_3f468_row7_col0\" class=\"data row7 col0\" >7.138462</td>\n",
              "    </tr>\n",
              "    <tr>\n",
              "      <th id=\"T_3f468_level1_row8\" class=\"row_heading level1 row8\" >Urban</th>\n",
              "      <td id=\"T_3f468_row8_col0\" class=\"data row8 col0\" >11.852143</td>\n",
              "    </tr>\n",
              "    <tr>\n",
              "      <th id=\"T_3f468_level0_row9\" class=\"row_heading level0 row9\" rowspan=\"2\">Delhi</th>\n",
              "      <th id=\"T_3f468_level1_row9\" class=\"row_heading level1 row9\" >Rural</th>\n",
              "      <td id=\"T_3f468_row9_col0\" class=\"data row9 col0\" >15.258571</td>\n",
              "    </tr>\n",
              "    <tr>\n",
              "      <th id=\"T_3f468_level1_row10\" class=\"row_heading level1 row10\" >Urban</th>\n",
              "      <td id=\"T_3f468_row10_col0\" class=\"data row10 col0\" >17.732143</td>\n",
              "    </tr>\n",
              "    <tr>\n",
              "      <th id=\"T_3f468_level0_row11\" class=\"row_heading level0 row11\" rowspan=\"2\">Goa</th>\n",
              "      <th id=\"T_3f468_level1_row11\" class=\"row_heading level1 row11\" >Rural</th>\n",
              "      <td id=\"T_3f468_row11_col0\" class=\"data row11 col0\" >9.152727</td>\n",
              "    </tr>\n",
              "    <tr>\n",
              "      <th id=\"T_3f468_level1_row12\" class=\"row_heading level1 row12\" >Urban</th>\n",
              "      <td id=\"T_3f468_row12_col0\" class=\"data row12 col0\" >10.158333</td>\n",
              "    </tr>\n",
              "    <tr>\n",
              "      <th id=\"T_3f468_level0_row13\" class=\"row_heading level0 row13\" rowspan=\"2\">Gujarat</th>\n",
              "      <th id=\"T_3f468_level1_row13\" class=\"row_heading level1 row13\" >Rural</th>\n",
              "      <td id=\"T_3f468_row13_col0\" class=\"data row13 col0\" >5.917143</td>\n",
              "    </tr>\n",
              "    <tr>\n",
              "      <th id=\"T_3f468_level1_row14\" class=\"row_heading level1 row14\" >Urban</th>\n",
              "      <td id=\"T_3f468_row14_col0\" class=\"data row14 col0\" >7.410714</td>\n",
              "    </tr>\n",
              "    <tr>\n",
              "      <th id=\"T_3f468_level0_row15\" class=\"row_heading level0 row15\" rowspan=\"2\">Haryana</th>\n",
              "      <th id=\"T_3f468_level1_row15\" class=\"row_heading level1 row15\" >Rural</th>\n",
              "      <td id=\"T_3f468_row15_col0\" class=\"data row15 col0\" >25.012857</td>\n",
              "    </tr>\n",
              "    <tr>\n",
              "      <th id=\"T_3f468_level1_row16\" class=\"row_heading level1 row16\" >Urban</th>\n",
              "      <td id=\"T_3f468_row16_col0\" class=\"data row16 col0\" >27.553571</td>\n",
              "    </tr>\n",
              "    <tr>\n",
              "      <th id=\"T_3f468_level0_row17\" class=\"row_heading level0 row17\" rowspan=\"2\">Himachal Pradesh</th>\n",
              "      <th id=\"T_3f468_level1_row17\" class=\"row_heading level1 row17\" >Rural</th>\n",
              "      <td id=\"T_3f468_row17_col0\" class=\"data row17 col0\" >15.504286</td>\n",
              "    </tr>\n",
              "    <tr>\n",
              "      <th id=\"T_3f468_level1_row18\" class=\"row_heading level1 row18\" >Urban</th>\n",
              "      <td id=\"T_3f468_row18_col0\" class=\"data row18 col0\" >21.576429</td>\n",
              "    </tr>\n",
              "    <tr>\n",
              "      <th id=\"T_3f468_level0_row19\" class=\"row_heading level0 row19\" rowspan=\"2\">Jammu & Kashmir</th>\n",
              "      <th id=\"T_3f468_level1_row19\" class=\"row_heading level1 row19\" >Rural</th>\n",
              "      <td id=\"T_3f468_row19_col0\" class=\"data row19 col0\" >14.951818</td>\n",
              "    </tr>\n",
              "    <tr>\n",
              "      <th id=\"T_3f468_level1_row20\" class=\"row_heading level1 row20\" >Urban</th>\n",
              "      <td id=\"T_3f468_row20_col0\" class=\"data row20 col0\" >17.549000</td>\n",
              "    </tr>\n",
              "    <tr>\n",
              "      <th id=\"T_3f468_level0_row21\" class=\"row_heading level0 row21\" rowspan=\"2\">Jharkhand</th>\n",
              "      <th id=\"T_3f468_level1_row21\" class=\"row_heading level1 row21\" >Rural</th>\n",
              "      <td id=\"T_3f468_row21_col0\" class=\"data row21 col0\" >15.221429</td>\n",
              "    </tr>\n",
              "    <tr>\n",
              "      <th id=\"T_3f468_level1_row22\" class=\"row_heading level1 row22\" >Urban</th>\n",
              "      <td id=\"T_3f468_row22_col0\" class=\"data row22 col0\" >25.948571</td>\n",
              "    </tr>\n",
              "    <tr>\n",
              "      <th id=\"T_3f468_level0_row23\" class=\"row_heading level0 row23\" rowspan=\"2\">Karnataka</th>\n",
              "      <th id=\"T_3f468_level1_row23\" class=\"row_heading level1 row23\" >Rural</th>\n",
              "      <td id=\"T_3f468_row23_col0\" class=\"data row23 col0\" >7.224286</td>\n",
              "    </tr>\n",
              "    <tr>\n",
              "      <th id=\"T_3f468_level1_row24\" class=\"row_heading level1 row24\" >Urban</th>\n",
              "      <td id=\"T_3f468_row24_col0\" class=\"data row24 col0\" >6.127857</td>\n",
              "    </tr>\n",
              "    <tr>\n",
              "      <th id=\"T_3f468_level0_row25\" class=\"row_heading level0 row25\" rowspan=\"2\">Kerala</th>\n",
              "      <th id=\"T_3f468_level1_row25\" class=\"row_heading level1 row25\" >Rural</th>\n",
              "      <td id=\"T_3f468_row25_col0\" class=\"data row25 col0\" >10.341429</td>\n",
              "    </tr>\n",
              "    <tr>\n",
              "      <th id=\"T_3f468_level1_row26\" class=\"row_heading level1 row26\" >Urban</th>\n",
              "      <td id=\"T_3f468_row26_col0\" class=\"data row26 col0\" >9.906429</td>\n",
              "    </tr>\n",
              "    <tr>\n",
              "      <th id=\"T_3f468_level0_row27\" class=\"row_heading level0 row27\" rowspan=\"2\">Madhya Pradesh</th>\n",
              "      <th id=\"T_3f468_level1_row27\" class=\"row_heading level1 row27\" >Rural</th>\n",
              "      <td id=\"T_3f468_row27_col0\" class=\"data row27 col0\" >5.653571</td>\n",
              "    </tr>\n",
              "    <tr>\n",
              "      <th id=\"T_3f468_level1_row28\" class=\"row_heading level1 row28\" >Urban</th>\n",
              "      <td id=\"T_3f468_row28_col0\" class=\"data row28 col0\" >9.159286</td>\n",
              "    </tr>\n",
              "    <tr>\n",
              "      <th id=\"T_3f468_level0_row29\" class=\"row_heading level0 row29\" rowspan=\"2\">Maharashtra</th>\n",
              "      <th id=\"T_3f468_level1_row29\" class=\"row_heading level1 row29\" >Rural</th>\n",
              "      <td id=\"T_3f468_row29_col0\" class=\"data row29 col0\" >6.810000</td>\n",
              "    </tr>\n",
              "    <tr>\n",
              "      <th id=\"T_3f468_level1_row30\" class=\"row_heading level1 row30\" >Urban</th>\n",
              "      <td id=\"T_3f468_row30_col0\" class=\"data row30 col0\" >8.305000</td>\n",
              "    </tr>\n",
              "    <tr>\n",
              "      <th id=\"T_3f468_level0_row31\" class=\"row_heading level0 row31\" rowspan=\"2\">Meghalaya</th>\n",
              "      <th id=\"T_3f468_level1_row31\" class=\"row_heading level1 row31\" >Rural</th>\n",
              "      <td id=\"T_3f468_row31_col0\" class=\"data row31 col0\" >2.475000</td>\n",
              "    </tr>\n",
              "    <tr>\n",
              "      <th id=\"T_3f468_level1_row32\" class=\"row_heading level1 row32\" >Urban</th>\n",
              "      <td id=\"T_3f468_row32_col0\" class=\"data row32 col0\" >7.301538</td>\n",
              "    </tr>\n",
              "    <tr>\n",
              "      <th id=\"T_3f468_level0_row33\" class=\"row_heading level0 row33\" rowspan=\"2\">Odisha</th>\n",
              "      <th id=\"T_3f468_level1_row33\" class=\"row_heading level1 row33\" >Rural</th>\n",
              "      <td id=\"T_3f468_row33_col0\" class=\"data row33 col0\" >6.612857</td>\n",
              "    </tr>\n",
              "    <tr>\n",
              "      <th id=\"T_3f468_level1_row34\" class=\"row_heading level1 row34\" >Urban</th>\n",
              "      <td id=\"T_3f468_row34_col0\" class=\"data row34 col0\" >4.702857</td>\n",
              "    </tr>\n",
              "    <tr>\n",
              "      <th id=\"T_3f468_level0_row35\" class=\"row_heading level0 row35\" rowspan=\"2\">Puducherry</th>\n",
              "      <th id=\"T_3f468_level1_row35\" class=\"row_heading level1 row35\" >Rural</th>\n",
              "      <td id=\"T_3f468_row35_col0\" class=\"data row35 col0\" >12.451429</td>\n",
              "    </tr>\n",
              "    <tr>\n",
              "      <th id=\"T_3f468_level1_row36\" class=\"row_heading level1 row36\" >Urban</th>\n",
              "      <td id=\"T_3f468_row36_col0\" class=\"data row36 col0\" >14.869167</td>\n",
              "    </tr>\n",
              "    <tr>\n",
              "      <th id=\"T_3f468_level0_row37\" class=\"row_heading level0 row37\" rowspan=\"2\">Punjab</th>\n",
              "      <th id=\"T_3f468_level1_row37\" class=\"row_heading level1 row37\" >Rural</th>\n",
              "      <td id=\"T_3f468_row37_col0\" class=\"data row37 col0\" >11.925000</td>\n",
              "    </tr>\n",
              "    <tr>\n",
              "      <th id=\"T_3f468_level1_row38\" class=\"row_heading level1 row38\" >Urban</th>\n",
              "      <td id=\"T_3f468_row38_col0\" class=\"data row38 col0\" >12.137143</td>\n",
              "    </tr>\n",
              "    <tr>\n",
              "      <th id=\"T_3f468_level0_row39\" class=\"row_heading level0 row39\" rowspan=\"2\">Rajasthan</th>\n",
              "      <th id=\"T_3f468_level1_row39\" class=\"row_heading level1 row39\" >Rural</th>\n",
              "      <td id=\"T_3f468_row39_col0\" class=\"data row39 col0\" >10.927143</td>\n",
              "    </tr>\n",
              "    <tr>\n",
              "      <th id=\"T_3f468_level1_row40\" class=\"row_heading level1 row40\" >Urban</th>\n",
              "      <td id=\"T_3f468_row40_col0\" class=\"data row40 col0\" >17.189286</td>\n",
              "    </tr>\n",
              "    <tr>\n",
              "      <th id=\"T_3f468_level0_row41\" class=\"row_heading level0 row41\" rowspan=\"2\">Sikkim</th>\n",
              "      <th id=\"T_3f468_level1_row41\" class=\"row_heading level1 row41\" >Rural</th>\n",
              "      <td id=\"T_3f468_row41_col0\" class=\"data row41 col0\" >6.350000</td>\n",
              "    </tr>\n",
              "    <tr>\n",
              "      <th id=\"T_3f468_level1_row42\" class=\"row_heading level1 row42\" >Urban</th>\n",
              "      <td id=\"T_3f468_row42_col0\" class=\"data row42 col0\" >8.153333</td>\n",
              "    </tr>\n",
              "    <tr>\n",
              "      <th id=\"T_3f468_level0_row43\" class=\"row_heading level0 row43\" rowspan=\"2\">Tamil Nadu</th>\n",
              "      <th id=\"T_3f468_level1_row43\" class=\"row_heading level1 row43\" >Rural</th>\n",
              "      <td id=\"T_3f468_row43_col0\" class=\"data row43 col0\" >8.775714</td>\n",
              "    </tr>\n",
              "    <tr>\n",
              "      <th id=\"T_3f468_level1_row44\" class=\"row_heading level1 row44\" >Urban</th>\n",
              "      <td id=\"T_3f468_row44_col0\" class=\"data row44 col0\" >9.792857</td>\n",
              "    </tr>\n",
              "    <tr>\n",
              "      <th id=\"T_3f468_level0_row45\" class=\"row_heading level0 row45\" rowspan=\"2\">Telangana</th>\n",
              "      <th id=\"T_3f468_level1_row45\" class=\"row_heading level1 row45\" >Rural</th>\n",
              "      <td id=\"T_3f468_row45_col0\" class=\"data row45 col0\" >7.863571</td>\n",
              "    </tr>\n",
              "    <tr>\n",
              "      <th id=\"T_3f468_level1_row46\" class=\"row_heading level1 row46\" >Urban</th>\n",
              "      <td id=\"T_3f468_row46_col0\" class=\"data row46 col0\" >7.612143</td>\n",
              "    </tr>\n",
              "    <tr>\n",
              "      <th id=\"T_3f468_level0_row47\" class=\"row_heading level0 row47\" rowspan=\"2\">Tripura</th>\n",
              "      <th id=\"T_3f468_level1_row47\" class=\"row_heading level1 row47\" >Rural</th>\n",
              "      <td id=\"T_3f468_row47_col0\" class=\"data row47 col0\" >27.166429</td>\n",
              "    </tr>\n",
              "    <tr>\n",
              "      <th id=\"T_3f468_level1_row48\" class=\"row_heading level1 row48\" >Urban</th>\n",
              "      <td id=\"T_3f468_row48_col0\" class=\"data row48 col0\" >29.534286</td>\n",
              "    </tr>\n",
              "    <tr>\n",
              "      <th id=\"T_3f468_level0_row49\" class=\"row_heading level0 row49\" rowspan=\"2\">Uttar Pradesh</th>\n",
              "      <th id=\"T_3f468_level1_row49\" class=\"row_heading level1 row49\" >Rural</th>\n",
              "      <td id=\"T_3f468_row49_col0\" class=\"data row49 col0\" >10.208571</td>\n",
              "    </tr>\n",
              "    <tr>\n",
              "      <th id=\"T_3f468_level1_row50\" class=\"row_heading level1 row50\" >Urban</th>\n",
              "      <td id=\"T_3f468_row50_col0\" class=\"data row50 col0\" >14.894286</td>\n",
              "    </tr>\n",
              "    <tr>\n",
              "      <th id=\"T_3f468_level0_row51\" class=\"row_heading level0 row51\" rowspan=\"2\">Uttarakhand</th>\n",
              "      <th id=\"T_3f468_level1_row51\" class=\"row_heading level1 row51\" >Rural</th>\n",
              "      <td id=\"T_3f468_row51_col0\" class=\"data row51 col0\" >4.882308</td>\n",
              "    </tr>\n",
              "    <tr>\n",
              "      <th id=\"T_3f468_level1_row52\" class=\"row_heading level1 row52\" >Urban</th>\n",
              "      <td id=\"T_3f468_row52_col0\" class=\"data row52 col0\" >8.162143</td>\n",
              "    </tr>\n",
              "    <tr>\n",
              "      <th id=\"T_3f468_level0_row53\" class=\"row_heading level0 row53\" rowspan=\"2\">West Bengal</th>\n",
              "      <th id=\"T_3f468_level1_row53\" class=\"row_heading level1 row53\" >Rural</th>\n",
              "      <td id=\"T_3f468_row53_col0\" class=\"data row53 col0\" >7.572143</td>\n",
              "    </tr>\n",
              "    <tr>\n",
              "      <th id=\"T_3f468_level1_row54\" class=\"row_heading level1 row54\" >Urban</th>\n",
              "      <td id=\"T_3f468_row54_col0\" class=\"data row54 col0\" >8.677143</td>\n",
              "    </tr>\n",
              "  </tbody>\n",
              "</table>\n"
            ]
          },
          "metadata": {},
          "execution_count": 56
        }
      ]
    },
    {
      "cell_type": "markdown",
      "source": [
        "Unemployment Rate is generally higher in Urban areas.\n",
        "\"Within countries, densely populated urban areas were the hardest hit in the first half of 2020. In rural areas, COVID-19 mortality rates increased particularly from August 2020 onwards.\""
      ],
      "metadata": {
        "id": "Gg3wUHlDp4QI"
      }
    },
    {
      "cell_type": "code",
      "source": [
        "shp_gdf = gpd.read_file('/content/Indian_states.shp')"
      ],
      "metadata": {
        "id": "rsusjNqeTDiy"
      },
      "execution_count": 57,
      "outputs": []
    },
    {
      "cell_type": "code",
      "source": [
        "merged = shp_gdf.set_index('st_nm').join(df1.set_index('State'))"
      ],
      "metadata": {
        "id": "4JUqU4SXTDlk"
      },
      "execution_count": 58,
      "outputs": []
    },
    {
      "cell_type": "code",
      "source": [
        "fig, ax = plt.subplots(1, figsize=(12, 6))\n",
        "ax.axis('off')\n",
        "ax.set_title('Unemployment Rate in India',\n",
        "             fontdict={'fontsize': '20', 'fontweight' : '15'})\n",
        "fig = merged.plot(column='EUR', cmap='mako', linewidth=0.5, ax=ax, edgecolor='0.2',legend=True)\n"
      ],
      "metadata": {
        "colab": {
          "base_uri": "https://localhost:8080/",
          "height": 378
        },
        "id": "ZnOjdDBZS1ND",
        "outputId": "be307ac7-7947-4bf9-eb0c-bf4b142d3cce"
      },
      "execution_count": 59,
      "outputs": [
        {
          "output_type": "display_data",
          "data": {
            "text/plain": [
              "<Figure size 864x432 with 2 Axes>"
            ],
            "image/png": "[encoded data removed]"
          },
          "metadata": {
            "needs_background": "light"
          }
        }
      ]
    },
    {
      "cell_type": "markdown",
      "source": [
        "Haryana,chattisgarh,Tamil nadu and tripura are the 4 states whose Unemployment rate was mainly affected by covid-19."
      ],
      "metadata": {
        "id": "vMuPXOu8A909"
      }
    },
    {
      "cell_type": "code",
      "source": [
        "df1.corr().style.background_gradient('mako')"
      ],
      "metadata": {
        "colab": {
          "base_uri": "https://localhost:8080/",
          "height": 143
        },
        "id": "B6XxkjT1sL5x",
        "outputId": "aac08748-439c-4714-ce4b-bcdea66ce1be"
      },
      "execution_count": 60,
      "outputs": [
        {
          "output_type": "execute_result",
          "data": {
            "text/plain": [
              "<pandas.io.formats.style.Styler at 0x7f5bd2b74d90>"
            ],
            "text/html": [
              "<style type=\"text/css\">\n",
              "#T_908c3_row0_col0, #T_908c3_row1_col1, #T_908c3_row2_col2 {\n",
              "  background-color: #def5e5;\n",
              "  color: #000000;\n",
              "}\n",
              "#T_908c3_row0_col1, #T_908c3_row0_col2, #T_908c3_row1_col0 {\n",
              "  background-color: #0b0405;\n",
              "  color: #f1f1f1;\n",
              "}\n",
              "#T_908c3_row1_col2 {\n",
              "  background-color: #0f0609;\n",
              "  color: #f1f1f1;\n",
              "}\n",
              "#T_908c3_row2_col0 {\n",
              "  background-color: #36274d;\n",
              "  color: #f1f1f1;\n",
              "}\n",
              "#T_908c3_row2_col1 {\n",
              "  background-color: #382953;\n",
              "  color: #f1f1f1;\n",
              "}\n",
              "</style>\n",
              "<table id=\"T_908c3_\" class=\"dataframe\">\n",
              "  <thead>\n",
              "    <tr>\n",
              "      <th class=\"blank level0\" >&nbsp;</th>\n",
              "      <th class=\"col_heading level0 col0\" >EUR</th>\n",
              "      <th class=\"col_heading level0 col1\" >EE</th>\n",
              "      <th class=\"col_heading level0 col2\" >ELPR</th>\n",
              "    </tr>\n",
              "  </thead>\n",
              "  <tbody>\n",
              "    <tr>\n",
              "      <th id=\"T_908c3_level0_row0\" class=\"row_heading level0 row0\" >EUR</th>\n",
              "      <td id=\"T_908c3_row0_col0\" class=\"data row0 col0\" >1.000000</td>\n",
              "      <td id=\"T_908c3_row0_col1\" class=\"data row0 col1\" >-0.238008</td>\n",
              "      <td id=\"T_908c3_row0_col2\" class=\"data row0 col2\" >-0.006248</td>\n",
              "    </tr>\n",
              "    <tr>\n",
              "      <th id=\"T_908c3_level0_row1\" class=\"row_heading level0 row1\" >EE</th>\n",
              "      <td id=\"T_908c3_row1_col0\" class=\"data row1 col0\" >-0.238008</td>\n",
              "      <td id=\"T_908c3_row1_col1\" class=\"data row1 col1\" >1.000000</td>\n",
              "      <td id=\"T_908c3_row1_col2\" class=\"data row1 col2\" >0.006161</td>\n",
              "    </tr>\n",
              "    <tr>\n",
              "      <th id=\"T_908c3_level0_row2\" class=\"row_heading level0 row2\" >ELPR</th>\n",
              "      <td id=\"T_908c3_row2_col0\" class=\"data row2 col0\" >-0.006248</td>\n",
              "      <td id=\"T_908c3_row2_col1\" class=\"data row2 col1\" >0.006161</td>\n",
              "      <td id=\"T_908c3_row2_col2\" class=\"data row2 col2\" >1.000000</td>\n",
              "    </tr>\n",
              "  </tbody>\n",
              "</table>\n"
            ]
          },
          "metadata": {},
          "execution_count": 60
        }
      ]
    },
    {
      "cell_type": "markdown",
      "source": [],
      "metadata": {
        "id": "NBoK_0QYrgTY"
      }
    },
    {
      "cell_type": "code",
      "source": [
        "plt.figure(figsize=(15,10))\n",
        "sns.barplot(data=df1,x='ELPR',y='State',palette='mako_r')\n",
        "plt.title('Labour Participation Rate',fontsize=20,fontweight='bold')\n",
        "plt.xlabel(' ')\n",
        "plt.ylabel(' ')"
      ],
      "metadata": {
        "colab": {
          "base_uri": "https://localhost:8080/",
          "height": 645
        },
        "id": "D5dL5BJnfZQi",
        "outputId": "34e50596-9bfd-4ac0-853a-a0d147010452"
      },
      "execution_count": 61,
      "outputs": [
        {
          "output_type": "execute_result",
          "data": {
            "text/plain": [
              "Text(0, 0.5, ' ')"
            ]
          },
          "metadata": {},
          "execution_count": 61
        },
        {
          "output_type": "display_data",
          "data": {
            "text/plain": [
              "<Figure size 1080x720 with 1 Axes>"
            ],
            "image/png": "[encoded data removed]"
          },
          "metadata": {
            "needs_background": "light"
          }
        }
      ]
    },
    {
      "cell_type": "code",
      "source": [
        "high=df1['EUR'].nlargest(20).tolist()[::-1]\n",
        "high_dt=df1[df1['EUR']>38]['Date'].head(20).tolist()\n",
        "high_st=df1[df1['EUR']>38]['State'].head(20).tolist()\n",
        "high_EUR=pd.DataFrame({'Date':high_dt,'State':high_st,'EUR':high})"
      ],
      "metadata": {
        "id": "9ykwAGOWttZH"
      },
      "execution_count": 62,
      "outputs": []
    },
    {
      "cell_type": "code",
      "source": [
        "plt.figure(figsize=(12,6))\n",
        "sns.barplot(data=high_EUR,x='EUR',y='State',palette='mako_r')\n",
        "plt.title('Highest Unemployment Rate during covid-19',fontsize=20,fontweight='bold')\n",
        "plt.xlabel(' ')\n",
        "plt.ylabel(' ')"
      ],
      "metadata": {
        "colab": {
          "base_uri": "https://localhost:8080/",
          "height": 427
        },
        "id": "P5fVEFhV8g32",
        "outputId": "735f5f02-1f7d-468a-cf94-a8747e983715"
      },
      "execution_count": 63,
      "outputs": [
        {
          "output_type": "execute_result",
          "data": {
            "text/plain": [
              "Text(0, 0.5, ' ')"
            ]
          },
          "metadata": {},
          "execution_count": 63
        },
        {
          "output_type": "display_data",
          "data": {
            "text/plain": [
              "<Figure size 864x432 with 1 Axes>"
            ],
            "image/png": "[encoded data removed]"
          },
          "metadata": {
            "needs_background": "light"
          }
        }
      ]
    },
    {
      "cell_type": "markdown",
      "source": [
        "# **How far the unemployemnt rate will go?**\n",
        "Highest unemployment was seen between april and may.\n",
        "Pudhuchery, MP, jharkhand and haryana faced the highest unemployement rate during covid-19"
      ],
      "metadata": {
        "id": "dU7rd2RZtt2g"
      }
    }
  ]
}